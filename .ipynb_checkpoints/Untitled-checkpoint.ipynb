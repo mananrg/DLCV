{
 "cells": [
  {
   "cell_type": "code",
   "execution_count": 1,
   "metadata": {},
   "outputs": [
    {
     "name": "stderr",
     "output_type": "stream",
     "text": [
      "Using TensorFlow backend.\n"
     ]
    }
   ],
   "source": [
    "import keras\n",
    "from keras.models import Sequential\n",
    "from keras.layers import Dense,Dropout,Activation,Flatten,Conv2D,MaxPooling2D\n",
    "from keras.datasets import cifar10\n"
   ]
  },
  {
   "cell_type": "code",
   "execution_count": 2,
   "metadata": {},
   "outputs": [
    {
     "name": "stdout",
     "output_type": "stream",
     "text": [
      "Downloading data from https://www.cs.toronto.edu/~kriz/cifar-10-python.tar.gz\n",
      "170500096/170498071 [==============================] - 58s 0us/step\n"
     ]
    }
   ],
   "source": []
  },
  {
   "cell_type": "code",
   "execution_count": 6,
   "metadata": {},
   "outputs": [
    {
     "name": "stdout",
     "output_type": "stream",
     "text": [
      "WARNING:tensorflow:From /home/deeplearningcv/anaconda3/envs/cv/lib/python3.6/site-packages/keras/optimizers.py:790: The name tf.train.Optimizer is deprecated. Please use tf.compat.v1.train.Optimizer instead.\n",
      "\n",
      "WARNING:tensorflow:From /home/deeplearningcv/anaconda3/envs/cv/lib/python3.6/site-packages/keras/backend/tensorflow_backend.py:3295: The name tf.log is deprecated. Please use tf.math.log instead.\n",
      "\n",
      "_________________________________________________________________\n",
      "Layer (type)                 Output Shape              Param #   \n",
      "=================================================================\n",
      "conv2d_5 (Conv2D)            (None, 32, 32, 32)        896       \n",
      "_________________________________________________________________\n",
      "activation_7 (Activation)    (None, 32, 32, 32)        0         \n",
      "_________________________________________________________________\n",
      "conv2d_6 (Conv2D)            (None, 30, 30, 32)        9248      \n",
      "_________________________________________________________________\n",
      "activation_8 (Activation)    (None, 30, 30, 32)        0         \n",
      "_________________________________________________________________\n",
      "max_pooling2d_3 (MaxPooling2 (None, 15, 15, 32)        0         \n",
      "_________________________________________________________________\n",
      "dropout_4 (Dropout)          (None, 15, 15, 32)        0         \n",
      "_________________________________________________________________\n",
      "conv2d_7 (Conv2D)            (None, 15, 15, 64)        18496     \n",
      "_________________________________________________________________\n",
      "activation_9 (Activation)    (None, 15, 15, 64)        0         \n",
      "_________________________________________________________________\n",
      "conv2d_8 (Conv2D)            (None, 13, 13, 64)        36928     \n",
      "_________________________________________________________________\n",
      "activation_10 (Activation)   (None, 13, 13, 64)        0         \n",
      "_________________________________________________________________\n",
      "max_pooling2d_4 (MaxPooling2 (None, 6, 6, 64)          0         \n",
      "_________________________________________________________________\n",
      "dropout_5 (Dropout)          (None, 6, 6, 64)          0         \n",
      "_________________________________________________________________\n",
      "flatten_2 (Flatten)          (None, 2304)              0         \n",
      "_________________________________________________________________\n",
      "dense_3 (Dense)              (None, 512)               1180160   \n",
      "_________________________________________________________________\n",
      "activation_11 (Activation)   (None, 512)               0         \n",
      "_________________________________________________________________\n",
      "dropout_6 (Dropout)          (None, 512)               0         \n",
      "_________________________________________________________________\n",
      "dense_4 (Dense)              (None, 10)                5130      \n",
      "_________________________________________________________________\n",
      "activation_12 (Activation)   (None, 10)                0         \n",
      "=================================================================\n",
      "Total params: 1,250,858\n",
      "Trainable params: 1,250,858\n",
      "Non-trainable params: 0\n",
      "_________________________________________________________________\n",
      "None\n"
     ]
    }
   ],
   "source": [
    "epochs=10\n",
    "num_classes=10\n",
    "batch_size=32\n",
    "\n",
    "(X_train,y_train),(X_test,y_test)=cifar10.load_data()\n",
    "\n",
    "X_train=X_train.astype('float32')\n",
    "X_test=X_test.astype('float32')\n",
    "\n",
    "X_train /=255\n",
    "X_test /=255\n",
    "\n",
    "y_train = keras.utils.to_categorical(y_train,num_classes)\n",
    "y_test=keras.utils.to_categorical(y_test,num_classes)\n",
    "\n",
    "model=Sequential()\n",
    "model.add(Conv2D(32,(3,3),padding='same',input_shape=X_train.shape[1:]))\n",
    "model.add(Activation('relu'))\n",
    "model.add(Conv2D(32,(3,3)))\n",
    "model.add(Activation('relu'))\n",
    "model.add(MaxPooling2D(pool_size=(2,2)))\n",
    "model.add(Dropout(0.25))\n",
    "\n",
    "model.add(Conv2D(64,(3,3),padding='same',input_shape=X_train.shape[1:]))\n",
    "model.add(Activation('relu'))\n",
    "model.add(Conv2D(64,(3,3)))\n",
    "model.add(Activation('relu'))\n",
    "model.add(MaxPooling2D(pool_size=(2,2)))\n",
    "model.add(Dropout(0.25))\n",
    "\n",
    "model.add(Flatten())\n",
    "model.add(Dense(512))\n",
    "model.add(Activation('relu'))\n",
    "model.add(Dropout(0.5))\n",
    "model.add(Dense(num_classes))\n",
    "model.add(Activation('softmax'))\n",
    "\n",
    "opt=keras.optimizers.rmsprop(lr=0.0001,decay=1e-6)\n",
    "\n",
    "model.compile(loss='categorical_crossentropy',optimizer=opt,metrics=['accuracy'])\n",
    "print(model.summary())"
   ]
  },
  {
   "cell_type": "code",
   "execution_count": 7,
   "metadata": {},
   "outputs": [
    {
     "name": "stdout",
     "output_type": "stream",
     "text": [
      "WARNING:tensorflow:From /home/deeplearningcv/anaconda3/envs/cv/lib/python3.6/site-packages/tensorflow/python/ops/math_grad.py:1250: add_dispatch_support.<locals>.wrapper (from tensorflow.python.ops.array_ops) is deprecated and will be removed in a future version.\n",
      "Instructions for updating:\n",
      "Use tf.where in 2.0, which has the same broadcast rule as np.where\n",
      "Train on 50000 samples, validate on 10000 samples\n",
      "Epoch 1/10\n",
      "50000/50000 [==============================] - 87s 2ms/step - loss: 1.7910 - acc: 0.3481 - val_loss: 1.5304 - val_acc: 0.4422\n",
      "Epoch 2/10\n",
      "50000/50000 [==============================] - 88s 2ms/step - loss: 1.4955 - acc: 0.4586 - val_loss: 1.3621 - val_acc: 0.5104\n",
      "Epoch 3/10\n",
      "50000/50000 [==============================] - 89s 2ms/step - loss: 1.3647 - acc: 0.5123 - val_loss: 1.2508 - val_acc: 0.5491\n",
      "Epoch 4/10\n",
      "50000/50000 [==============================] - 90s 2ms/step - loss: 1.2716 - acc: 0.5477 - val_loss: 1.2451 - val_acc: 0.5570\n",
      "Epoch 5/10\n",
      "50000/50000 [==============================] - 90s 2ms/step - loss: 1.1999 - acc: 0.5757 - val_loss: 1.1310 - val_acc: 0.6011\n",
      "Epoch 6/10\n",
      "50000/50000 [==============================] - 90s 2ms/step - loss: 1.1387 - acc: 0.5974 - val_loss: 1.1224 - val_acc: 0.6005\n",
      "Epoch 7/10\n",
      "50000/50000 [==============================] - 89s 2ms/step - loss: 1.0824 - acc: 0.6197 - val_loss: 1.0077 - val_acc: 0.6505\n",
      "Epoch 8/10\n",
      "50000/50000 [==============================] - 89s 2ms/step - loss: 1.0364 - acc: 0.6353 - val_loss: 1.0288 - val_acc: 0.6444\n",
      "Epoch 9/10\n",
      "50000/50000 [==============================] - 89s 2ms/step - loss: 0.9914 - acc: 0.6534 - val_loss: 0.9279 - val_acc: 0.6799\n",
      "Epoch 10/10\n",
      "50000/50000 [==============================] - 92s 2ms/step - loss: 0.9564 - acc: 0.6668 - val_loss: 0.9025 - val_acc: 0.6876\n"
     ]
    }
   ],
   "source": [
    "history=model.fit(X_train,y_train,epochs=epochs,\n",
    "                 batch_size=batch_size,validation_data=(X_test,y_test),shuffle=True)"
   ]
  },
  {
   "cell_type": "code",
   "execution_count": 10,
   "metadata": {},
   "outputs": [
    {
     "data": {
      "image/png": "[encoded data removed]",
      "text/plain": [
       "<Figure size 432x288 with 1 Axes>"
      ]
     },
     "metadata": {
      "needs_background": "light"
     },
     "output_type": "display_data"
    }
   ],
   "source": [
    "import matplotlib.pyplot as plt\n",
    "%matplotlib inline\n",
    "history_dict=history.history\n",
    "\n",
    "loss_values= history_dict['loss']\n",
    "val_loss_values=history_dict['val_loss']\n",
    "\n",
    "epochs=range(1,len(loss_values)+1)\n",
    "\n",
    "line1=plt.plot(epochs,val_loss_values,label='Validation/Test loss')\n",
    "line2=plt.plot(epochs,loss_values,label='Training Loss')\n",
    "\n",
    "plt.setp(line1,marker='+',markersize=10.0,linewidth=2.0)\n",
    "plt.setp(line2,marker='4',markersize=10.0,linewidth=2.0)\n",
    "plt.legend()\n",
    "plt.grid(True)\n",
    "plt.show()"
   ]
  },
  {
   "cell_type": "code",
   "execution_count": null,
   "metadata": {},
   "outputs": [],
   "source": []
  }
 ],
 "metadata": {
  "kernelspec": {
   "display_name": "Python 3",
   "language": "python",
   "name": "python3"
  },
  "language_info": {
   "codemirror_mode": {
    "name": "ipython",
    "version": 3
   },
   "file_extension": ".py",
   "mimetype": "text/x-python",
   "name": "python",
   "nbconvert_exporter": "python",
   "pygments_lexer": "ipython3",
   "version": "3.6.13"
  }
 },
 "nbformat": 4,
 "nbformat_minor": 2
}
